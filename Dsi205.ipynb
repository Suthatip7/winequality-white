{
 "cells": [
  {
   "cell_type": "markdown",
   "metadata": {},
   "source": [
    "# import ข้อมูล"
   ]
  },
  {
   "cell_type": "code",
   "execution_count": 2,
   "metadata": {
    "scrolled": false
   },
   "outputs": [
    {
     "data": {
      "text/html": [
       "<div>\n",
       "<style scoped>\n",
       "    .dataframe tbody tr th:only-of-type {\n",
       "        vertical-align: middle;\n",
       "    }\n",
       "\n",
       "    .dataframe tbody tr th {\n",
       "        vertical-align: top;\n",
       "    }\n",
       "\n",
       "    .dataframe thead th {\n",
       "        text-align: right;\n",
       "    }\n",
       "</style>\n",
       "<table border=\"1\" class=\"dataframe\">\n",
       "  <thead>\n",
       "    <tr style=\"text-align: right;\">\n",
       "      <th></th>\n",
       "      <th>fixed acidity</th>\n",
       "      <th>volatile acidity</th>\n",
       "      <th>citric acid</th>\n",
       "      <th>residual sugar</th>\n",
       "      <th>chlorides</th>\n",
       "      <th>free sulfur dioxide</th>\n",
       "      <th>total sulfur dioxide</th>\n",
       "      <th>density</th>\n",
       "      <th>pH</th>\n",
       "      <th>sulphates</th>\n",
       "      <th>alcohol</th>\n",
       "      <th>quality</th>\n",
       "    </tr>\n",
       "  </thead>\n",
       "  <tbody>\n",
       "    <tr>\n",
       "      <th>0</th>\n",
       "      <td>7.0</td>\n",
       "      <td>0.27</td>\n",
       "      <td>0.36</td>\n",
       "      <td>20.7</td>\n",
       "      <td>0.045</td>\n",
       "      <td>45.0</td>\n",
       "      <td>170.0</td>\n",
       "      <td>1.0010</td>\n",
       "      <td>3.00</td>\n",
       "      <td>0.45</td>\n",
       "      <td>8.8</td>\n",
       "      <td>6</td>\n",
       "    </tr>\n",
       "    <tr>\n",
       "      <th>1</th>\n",
       "      <td>6.3</td>\n",
       "      <td>0.30</td>\n",
       "      <td>0.34</td>\n",
       "      <td>1.6</td>\n",
       "      <td>0.049</td>\n",
       "      <td>14.0</td>\n",
       "      <td>132.0</td>\n",
       "      <td>0.9940</td>\n",
       "      <td>3.30</td>\n",
       "      <td>0.49</td>\n",
       "      <td>9.5</td>\n",
       "      <td>6</td>\n",
       "    </tr>\n",
       "    <tr>\n",
       "      <th>2</th>\n",
       "      <td>8.1</td>\n",
       "      <td>0.28</td>\n",
       "      <td>0.40</td>\n",
       "      <td>6.9</td>\n",
       "      <td>0.050</td>\n",
       "      <td>30.0</td>\n",
       "      <td>97.0</td>\n",
       "      <td>0.9951</td>\n",
       "      <td>3.26</td>\n",
       "      <td>0.44</td>\n",
       "      <td>10.1</td>\n",
       "      <td>6</td>\n",
       "    </tr>\n",
       "    <tr>\n",
       "      <th>3</th>\n",
       "      <td>7.2</td>\n",
       "      <td>0.23</td>\n",
       "      <td>0.32</td>\n",
       "      <td>8.5</td>\n",
       "      <td>0.058</td>\n",
       "      <td>47.0</td>\n",
       "      <td>186.0</td>\n",
       "      <td>0.9956</td>\n",
       "      <td>3.19</td>\n",
       "      <td>0.40</td>\n",
       "      <td>9.9</td>\n",
       "      <td>6</td>\n",
       "    </tr>\n",
       "    <tr>\n",
       "      <th>4</th>\n",
       "      <td>7.2</td>\n",
       "      <td>0.23</td>\n",
       "      <td>0.32</td>\n",
       "      <td>8.5</td>\n",
       "      <td>0.058</td>\n",
       "      <td>47.0</td>\n",
       "      <td>186.0</td>\n",
       "      <td>0.9956</td>\n",
       "      <td>3.19</td>\n",
       "      <td>0.40</td>\n",
       "      <td>9.9</td>\n",
       "      <td>6</td>\n",
       "    </tr>\n",
       "  </tbody>\n",
       "</table>\n",
       "</div>"
      ],
      "text/plain": [
       "   fixed acidity  volatile acidity  citric acid  residual sugar  chlorides  \\\n",
       "0            7.0              0.27         0.36            20.7      0.045   \n",
       "1            6.3              0.30         0.34             1.6      0.049   \n",
       "2            8.1              0.28         0.40             6.9      0.050   \n",
       "3            7.2              0.23         0.32             8.5      0.058   \n",
       "4            7.2              0.23         0.32             8.5      0.058   \n",
       "\n",
       "   free sulfur dioxide  total sulfur dioxide  density    pH  sulphates  \\\n",
       "0                 45.0                 170.0   1.0010  3.00       0.45   \n",
       "1                 14.0                 132.0   0.9940  3.30       0.49   \n",
       "2                 30.0                  97.0   0.9951  3.26       0.44   \n",
       "3                 47.0                 186.0   0.9956  3.19       0.40   \n",
       "4                 47.0                 186.0   0.9956  3.19       0.40   \n",
       "\n",
       "   alcohol  quality  \n",
       "0      8.8        6  \n",
       "1      9.5        6  \n",
       "2     10.1        6  \n",
       "3      9.9        6  \n",
       "4      9.9        6  "
      ]
     },
     "execution_count": 2,
     "metadata": {},
     "output_type": "execute_result"
    }
   ],
   "source": [
    "import pandas as pd \n",
    "from sklearn.model_selection import train_test_split,cross_val_score,cross_validate\n",
    "from sklearn.linear_model import LinearRegression, Lasso\n",
    "import numpy as np \n",
    "from sklearn.metrics import mean_squared_error, r2_score,mean_absolute_error\n",
    "import seaborn as sns\n",
    "import matplotlib.pyplot as plt\n",
    "\n",
    "df = pd.read_csv('Desktop/winequality-white.csv',sep=';')\n",
    "df.head()"
   ]
  },
  {
   "cell_type": "code",
   "execution_count": null,
   "metadata": {},
   "outputs": [],
   "source": [
    "หา Missing Values"
   ]
  },
  {
   "cell_type": "code",
   "execution_count": 3,
   "metadata": {},
   "outputs": [
    {
     "name": "stdout",
     "output_type": "stream",
     "text": [
      "fixed acidity           0\n",
      "volatile acidity        0\n",
      "citric acid             0\n",
      "residual sugar          0\n",
      "chlorides               0\n",
      "free sulfur dioxide     0\n",
      "total sulfur dioxide    0\n",
      "density                 0\n",
      "pH                      0\n",
      "sulphates               0\n",
      "alcohol                 0\n",
      "quality                 0\n",
      "dtype: int64\n"
     ]
    }
   ],
   "source": [
    "print(df.isna().sum())"
   ]
  },
  {
   "cell_type": "code",
   "execution_count": 5,
   "metadata": {
    "scrolled": false
   },
   "outputs": [
    {
     "data": {
      "text/html": [
       "<div>\n",
       "<style scoped>\n",
       "    .dataframe tbody tr th:only-of-type {\n",
       "        vertical-align: middle;\n",
       "    }\n",
       "\n",
       "    .dataframe tbody tr th {\n",
       "        vertical-align: top;\n",
       "    }\n",
       "\n",
       "    .dataframe thead th {\n",
       "        text-align: right;\n",
       "    }\n",
       "</style>\n",
       "<table border=\"1\" class=\"dataframe\">\n",
       "  <thead>\n",
       "    <tr style=\"text-align: right;\">\n",
       "      <th></th>\n",
       "      <th>fixed acidity</th>\n",
       "      <th>volatile acidity</th>\n",
       "      <th>citric acid</th>\n",
       "      <th>residual sugar</th>\n",
       "      <th>chlorides</th>\n",
       "      <th>free sulfur dioxide</th>\n",
       "      <th>total sulfur dioxide</th>\n",
       "      <th>density</th>\n",
       "      <th>pH</th>\n",
       "      <th>sulphates</th>\n",
       "      <th>alcohol</th>\n",
       "      <th>quality</th>\n",
       "    </tr>\n",
       "  </thead>\n",
       "  <tbody>\n",
       "    <tr>\n",
       "      <th>count</th>\n",
       "      <td>4898.000000</td>\n",
       "      <td>4898.000000</td>\n",
       "      <td>4898.000000</td>\n",
       "      <td>4898.000000</td>\n",
       "      <td>4898.000000</td>\n",
       "      <td>4898.000000</td>\n",
       "      <td>4898.000000</td>\n",
       "      <td>4898.000000</td>\n",
       "      <td>4898.000000</td>\n",
       "      <td>4898.000000</td>\n",
       "      <td>4898.000000</td>\n",
       "      <td>4898.000000</td>\n",
       "    </tr>\n",
       "    <tr>\n",
       "      <th>mean</th>\n",
       "      <td>6.854788</td>\n",
       "      <td>0.278241</td>\n",
       "      <td>0.334192</td>\n",
       "      <td>6.391415</td>\n",
       "      <td>0.045772</td>\n",
       "      <td>35.308085</td>\n",
       "      <td>138.360657</td>\n",
       "      <td>0.994027</td>\n",
       "      <td>3.188267</td>\n",
       "      <td>0.489847</td>\n",
       "      <td>10.514267</td>\n",
       "      <td>5.877909</td>\n",
       "    </tr>\n",
       "    <tr>\n",
       "      <th>std</th>\n",
       "      <td>0.843868</td>\n",
       "      <td>0.100795</td>\n",
       "      <td>0.121020</td>\n",
       "      <td>5.072058</td>\n",
       "      <td>0.021848</td>\n",
       "      <td>17.007137</td>\n",
       "      <td>42.498065</td>\n",
       "      <td>0.002991</td>\n",
       "      <td>0.151001</td>\n",
       "      <td>0.114126</td>\n",
       "      <td>1.230621</td>\n",
       "      <td>0.885639</td>\n",
       "    </tr>\n",
       "    <tr>\n",
       "      <th>min</th>\n",
       "      <td>3.800000</td>\n",
       "      <td>0.080000</td>\n",
       "      <td>0.000000</td>\n",
       "      <td>0.600000</td>\n",
       "      <td>0.009000</td>\n",
       "      <td>2.000000</td>\n",
       "      <td>9.000000</td>\n",
       "      <td>0.987110</td>\n",
       "      <td>2.720000</td>\n",
       "      <td>0.220000</td>\n",
       "      <td>8.000000</td>\n",
       "      <td>3.000000</td>\n",
       "    </tr>\n",
       "    <tr>\n",
       "      <th>25%</th>\n",
       "      <td>6.300000</td>\n",
       "      <td>0.210000</td>\n",
       "      <td>0.270000</td>\n",
       "      <td>1.700000</td>\n",
       "      <td>0.036000</td>\n",
       "      <td>23.000000</td>\n",
       "      <td>108.000000</td>\n",
       "      <td>0.991723</td>\n",
       "      <td>3.090000</td>\n",
       "      <td>0.410000</td>\n",
       "      <td>9.500000</td>\n",
       "      <td>5.000000</td>\n",
       "    </tr>\n",
       "    <tr>\n",
       "      <th>50%</th>\n",
       "      <td>6.800000</td>\n",
       "      <td>0.260000</td>\n",
       "      <td>0.320000</td>\n",
       "      <td>5.200000</td>\n",
       "      <td>0.043000</td>\n",
       "      <td>34.000000</td>\n",
       "      <td>134.000000</td>\n",
       "      <td>0.993740</td>\n",
       "      <td>3.180000</td>\n",
       "      <td>0.470000</td>\n",
       "      <td>10.400000</td>\n",
       "      <td>6.000000</td>\n",
       "    </tr>\n",
       "    <tr>\n",
       "      <th>75%</th>\n",
       "      <td>7.300000</td>\n",
       "      <td>0.320000</td>\n",
       "      <td>0.390000</td>\n",
       "      <td>9.900000</td>\n",
       "      <td>0.050000</td>\n",
       "      <td>46.000000</td>\n",
       "      <td>167.000000</td>\n",
       "      <td>0.996100</td>\n",
       "      <td>3.280000</td>\n",
       "      <td>0.550000</td>\n",
       "      <td>11.400000</td>\n",
       "      <td>6.000000</td>\n",
       "    </tr>\n",
       "    <tr>\n",
       "      <th>max</th>\n",
       "      <td>14.200000</td>\n",
       "      <td>1.100000</td>\n",
       "      <td>1.660000</td>\n",
       "      <td>65.800000</td>\n",
       "      <td>0.346000</td>\n",
       "      <td>289.000000</td>\n",
       "      <td>440.000000</td>\n",
       "      <td>1.038980</td>\n",
       "      <td>3.820000</td>\n",
       "      <td>1.080000</td>\n",
       "      <td>14.200000</td>\n",
       "      <td>9.000000</td>\n",
       "    </tr>\n",
       "  </tbody>\n",
       "</table>\n",
       "</div>"
      ],
      "text/plain": [
       "       fixed acidity  volatile acidity  citric acid  residual sugar  \\\n",
       "count    4898.000000       4898.000000  4898.000000     4898.000000   \n",
       "mean        6.854788          0.278241     0.334192        6.391415   \n",
       "std         0.843868          0.100795     0.121020        5.072058   \n",
       "min         3.800000          0.080000     0.000000        0.600000   \n",
       "25%         6.300000          0.210000     0.270000        1.700000   \n",
       "50%         6.800000          0.260000     0.320000        5.200000   \n",
       "75%         7.300000          0.320000     0.390000        9.900000   \n",
       "max        14.200000          1.100000     1.660000       65.800000   \n",
       "\n",
       "         chlorides  free sulfur dioxide  total sulfur dioxide      density  \\\n",
       "count  4898.000000          4898.000000           4898.000000  4898.000000   \n",
       "mean      0.045772            35.308085            138.360657     0.994027   \n",
       "std       0.021848            17.007137             42.498065     0.002991   \n",
       "min       0.009000             2.000000              9.000000     0.987110   \n",
       "25%       0.036000            23.000000            108.000000     0.991723   \n",
       "50%       0.043000            34.000000            134.000000     0.993740   \n",
       "75%       0.050000            46.000000            167.000000     0.996100   \n",
       "max       0.346000           289.000000            440.000000     1.038980   \n",
       "\n",
       "                pH    sulphates      alcohol      quality  \n",
       "count  4898.000000  4898.000000  4898.000000  4898.000000  \n",
       "mean      3.188267     0.489847    10.514267     5.877909  \n",
       "std       0.151001     0.114126     1.230621     0.885639  \n",
       "min       2.720000     0.220000     8.000000     3.000000  \n",
       "25%       3.090000     0.410000     9.500000     5.000000  \n",
       "50%       3.180000     0.470000    10.400000     6.000000  \n",
       "75%       3.280000     0.550000    11.400000     6.000000  \n",
       "max       3.820000     1.080000    14.200000     9.000000  "
      ]
     },
     "execution_count": 5,
     "metadata": {},
     "output_type": "execute_result"
    }
   ],
   "source": [
    "df.describe()"
   ]
  },
  {
   "cell_type": "markdown",
   "metadata": {},
   "source": [
    "# ดูCorrelationของแต่ละตัวแปร"
   ]
  },
  {
   "cell_type": "code",
   "execution_count": 4,
   "metadata": {
    "scrolled": false
   },
   "outputs": [
    {
     "data": {
      "text/plain": [
       "<matplotlib.axes._subplots.AxesSubplot at 0x219c4d4beb0>"
      ]
     },
     "execution_count": 4,
     "metadata": {},
     "output_type": "execute_result"
    },
    {
     "data": {
      "image/png": "[encoded data removed]",
      "text/plain": [
       "<Figure size 720x720 with 2 Axes>"
      ]
     },
     "metadata": {
      "needs_background": "light"
     },
     "output_type": "display_data"
    }
   ],
   "source": [
    "corr_matrix=df.corr()\n",
    "fig,ax=plt.subplots(figsize=(10,10))\n",
    "sns.heatmap(corr_matrix,cmap=\"YlGnBu\",annot=True,linewidths=.5,ax=ax)"
   ]
  },
  {
   "cell_type": "markdown",
   "metadata": {},
   "source": [
    "# ตัวแปรต้น\n",
    "=['fixed acidity' ,'volatile acidity','citric acid ','residual sugar ','chlorides','free sulfur dioxide','total sulfur dioxide','density ','pH','sulphates','alcohol']\n",
    "\n",
    "ตัวแปรตาม\n",
    "= ['quality']"
   ]
  },
  {
   "cell_type": "code",
   "execution_count": 5,
   "metadata": {},
   "outputs": [],
   "source": [
    "X = df.drop('quality', axis=1)\n",
    "Y = df['quality']"
   ]
  },
  {
   "cell_type": "code",
   "execution_count": 50,
   "metadata": {},
   "outputs": [],
   "source": [
    "ft=['fixed acidity','volatile acidity','chlorides','total sulfur dioxide','density','alcohol']"
   ]
  },
  {
   "cell_type": "code",
   "execution_count": 51,
   "metadata": {},
   "outputs": [],
   "source": [
    "Z = df[ft] "
   ]
  },
  {
   "cell_type": "raw",
   "metadata": {},
   "source": [
    "# แบ่งข้อมูลtrain,testเป็น80:20"
   ]
  },
  {
   "cell_type": "code",
   "execution_count": 10,
   "metadata": {},
   "outputs": [],
   "source": [
    "X_train, X_test, Y_train, Y_test = train_test_split(X, Y, test_size=0.2, random_state=42)"
   ]
  },
  {
   "cell_type": "raw",
   "metadata": {},
   "source": [
    "#ใช้โมเดลLinearRegressionและLassoRegression"
   ]
  },
  {
   "cell_type": "code",
   "execution_count": 52,
   "metadata": {},
   "outputs": [],
   "source": [
    "regr = LinearRegression()\n",
    "lasso = Lasso(alpha=0.01)"
   ]
  },
  {
   "cell_type": "raw",
   "metadata": {},
   "source": [
    "#function การหาต่าcoeffecntsของโมเดล และค่า'Mean absolute error','R_squared','Root Mean Squared Error'หลังจากทดสอบโมเดล"
   ]
  },
  {
   "cell_type": "code",
   "execution_count": 53,
   "metadata": {},
   "outputs": [],
   "source": [
    "def coeffecients(model):\n",
    "    model.fit(X_train,Y_train)\n",
    "    Y_pred = model.predict(X_test)\n",
    "    coeffecients = pd.DataFrame(model.coef_,X.columns) \n",
    "    coeffecients.columns = ['Coeffecient']\n",
    "    print(coeffecients)\n",
    "    print('Mean absolute error: %.2f'% mean_absolute_error(Y_test, Y_pred))\n",
    "    print('R_squared: %.2f'% r2_score(Y_test, Y_pred))\n",
    "    print('Root Mean Squared Error: %.2f'%np.sqrt(mean_squared_error(Y_test, Y_pred)))"
   ]
  },
  {
   "cell_type": "markdown",
   "metadata": {},
   "source": [
    "#function การหาต่าcoeffecntsของโมเดล โดยใช้วิธีการแบ่งข้อลูลแบบCross validation ซึ่งแบ่งข้อมูลออกเป็น5ส่วน"
   ]
  },
  {
   "cell_type": "code",
   "execution_count": 54,
   "metadata": {},
   "outputs": [],
   "source": [
    "def cross_validation_coeff(model):\n",
    "    cv_results = cross_validate(model, X, Y, cv=5, return_estimator=True)\n",
    "    for model in cv_results['estimator']:\n",
    "        co = pd.DataFrame(model.coef_,X.columns) \n",
    "        co.columns = ['Coeffecient']\n",
    "        print(co)"
   ]
  },
  {
   "cell_type": "code",
   "execution_count": 55,
   "metadata": {},
   "outputs": [],
   "source": [
    "def cross_validation_coeff_ft(model):\n",
    "    cv_results = cross_validate(model, Z, Y, cv=5, return_estimator=True)\n",
    "    for model in cv_results['estimator']:\n",
    "        co = pd.DataFrame(model.coef_,Z.columns) \n",
    "        co.columns = ['Coeffecient']\n",
    "        print(co)"
   ]
  },
  {
   "cell_type": "raw",
   "metadata": {},
   "source": [
    "#function หาค่า'Mean absolute error','R_squared','Root Mean Squared Error' จากการแบ่งข้อลูลแบบCross validation"
   ]
  },
  {
   "cell_type": "code",
   "execution_count": 56,
   "metadata": {},
   "outputs": [],
   "source": [
    "def cross_validation_score(model):\n",
    "    val_mae = cross_val_score(model, X, Y, scoring=\"neg_mean_absolute_error\", cv = 5)\n",
    "    val_mse = cross_val_score(model, X, Y, scoring=\"neg_mean_squared_error\", cv = 5)\n",
    "    val_rmse = np.sqrt(-val_mse)\n",
    "    val_r2 = cross_val_score(model, X, Y, scoring=\"r2\", cv = 5)\n",
    "    print(\"Mean Absolute Error:\\t\", -val_mae)\n",
    "    print(\"mean(Mean Absolute Error):\\t\",-val_mae.mean())\n",
    "    print(\"R_squared:\\t\",val_r2)\n",
    "    print(\"mean(R_squared):\\t\",val_r2.mean())\n",
    "    print(\"Root Mean Squared Error:\\t\", val_rmse)\n",
    "    print(\"mean(Root Mean Squared Error):\\t\",val_rmse.mean())"
   ]
  },
  {
   "cell_type": "code",
   "execution_count": 57,
   "metadata": {},
   "outputs": [],
   "source": [
    "def cross_validation_score_ft(model):\n",
    "    val_mae = cross_val_score(model, Z, Y, scoring=\"neg_mean_absolute_error\", cv = 5)\n",
    "    val_mse = cross_val_score(model, Z, Y, scoring=\"neg_mean_squared_error\", cv = 5)\n",
    "    val_rmse = np.sqrt(-val_mse)\n",
    "    val_r2 = cross_val_score(model, Z, Y, scoring=\"r2\", cv = 5)\n",
    "    print(\"Mean Absolute Error:\\t\", -val_mae)\n",
    "    print(\"mean(Mean Absolute Error):\\t\",-val_mae.mean())\n",
    "    print(\"R_squared:\\t\",val_r2)\n",
    "    print(\"mean(R_squared):\\t\",val_r2.mean())\n",
    "    print(\"Root Mean Squared Error:\\t\", val_rmse)\n",
    "    print(\"mean(Root Mean Squared Error):\\t\",val_rmse.mean())"
   ]
  },
  {
   "cell_type": "markdown",
   "metadata": {},
   "source": [
    "# ค่าาcoeffecnts และค่า'Mean absolute error','R_squared','Root Mean Squared Error' จากโมเดลLinearRegression โดยแบ่งข้อมูลแบบปกติ"
   ]
  },
  {
   "cell_type": "code",
   "execution_count": 21,
   "metadata": {
    "scrolled": false
   },
   "outputs": [
    {
     "name": "stdout",
     "output_type": "stream",
     "text": [
      "                      Coeffecient\n",
      "fixed acidity            0.045907\n",
      "volatile acidity        -1.914884\n",
      "citric acid             -0.061303\n",
      "residual sugar           0.071240\n",
      "chlorides               -0.026475\n",
      "free sulfur dioxide      0.005119\n",
      "total sulfur dioxide    -0.000242\n",
      "density               -124.264125\n",
      "pH                       0.600700\n",
      "sulphates                0.649073\n",
      "alcohol                  0.229009\n",
      "Mean absolute error: 0.59\n",
      "R_squared: 0.27\n",
      "Root Mean Squared Error: 0.75\n",
      "None\n"
     ]
    }
   ],
   "source": [
    "print(coeffecients(regr)) "
   ]
  },
  {
   "cell_type": "markdown",
   "metadata": {},
   "source": [
    "# ค่า'Mean absolute error','R_squared','Root Mean Squared Error' จากโมเดลLinearRegression โดยแบ่งข้อมูลแบบCross validation"
   ]
  },
  {
   "cell_type": "code",
   "execution_count": 24,
   "metadata": {
    "scrolled": true
   },
   "outputs": [
    {
     "name": "stdout",
     "output_type": "stream",
     "text": [
      "Mean Absolute Error:\t [0.65151403 0.60287265 0.58660583 0.57607985 0.55191584]\n",
      "mean(Mean Absolute Error):\t 0.5937976390149554\n",
      "R_squared:\t [0.20126776 0.29276052 0.27466003 0.30555263 0.15465158]\n",
      "mean(R_squared):\t 0.24577850482967145\n",
      "Root Mean Squared Error:\t [0.83465773 0.76938384 0.75734897 0.73700675 0.71255098]\n",
      "mean(Root Mean Squared Error):\t 0.7621896534167796\n",
      "None\n"
     ]
    }
   ],
   "source": [
    "print(cross_validation_score(regr))"
   ]
  },
  {
   "cell_type": "markdown",
   "metadata": {},
   "source": [
    "# ค่าาcoeffecntจากการแบ่งข้อมูลแบบCross validation ของโมเดลLinearRegression"
   ]
  },
  {
   "cell_type": "code",
   "execution_count": 25,
   "metadata": {
    "scrolled": false
   },
   "outputs": [
    {
     "name": "stdout",
     "output_type": "stream",
     "text": [
      "                      Coeffecient\n",
      "fixed acidity            0.033420\n",
      "volatile acidity        -1.935458\n",
      "citric acid              0.055762\n",
      "residual sugar           0.079969\n",
      "chlorides                0.005732\n",
      "free sulfur dioxide      0.003435\n",
      "total sulfur dioxide    -0.000126\n",
      "density               -127.531724\n",
      "pH                       0.419676\n",
      "sulphates                0.440441\n",
      "alcohol                  0.236060\n",
      "                      Coeffecient\n",
      "fixed acidity            0.056701\n",
      "volatile acidity        -1.800278\n",
      "citric acid             -0.096045\n",
      "residual sugar           0.081910\n",
      "chlorides               -0.204713\n",
      "free sulfur dioxide      0.003514\n",
      "total sulfur dioxide    -0.000578\n",
      "density               -155.364199\n",
      "pH                       0.618826\n",
      "sulphates                0.824387\n",
      "alcohol                  0.170749\n",
      "                      Coeffecient\n",
      "fixed acidity            0.111274\n",
      "volatile acidity        -1.974691\n",
      "citric acid              0.032517\n",
      "residual sugar           0.094684\n",
      "chlorides               -0.599108\n",
      "free sulfur dioxide      0.003224\n",
      "total sulfur dioxide    -0.000165\n",
      "density               -187.395658\n",
      "pH                       0.870122\n",
      "sulphates                0.550687\n",
      "alcohol                  0.138625\n",
      "                      Coeffecient\n",
      "fixed acidity            0.082530\n",
      "volatile acidity        -1.851786\n",
      "citric acid              0.115192\n",
      "residual sugar           0.079013\n",
      "chlorides               -0.249330\n",
      "free sulfur dioxide      0.003838\n",
      "total sulfur dioxide    -0.000326\n",
      "density               -153.707114\n",
      "pH                       0.778026\n",
      "sulphates                0.655753\n",
      "alcohol                  0.180861\n",
      "                      Coeffecient\n",
      "fixed acidity            0.044302\n",
      "volatile acidity        -1.744704\n",
      "citric acid             -0.038292\n",
      "residual sugar           0.079208\n",
      "chlorides               -0.053420\n",
      "free sulfur dioxide      0.004750\n",
      "total sulfur dioxide    -0.000216\n",
      "density               -147.289903\n",
      "pH                       0.742981\n",
      "sulphates                0.750890\n",
      "alcohol                  0.224326\n",
      "None\n"
     ]
    }
   ],
   "source": [
    "print(cross_validation_coeff(regr))"
   ]
  },
  {
   "cell_type": "markdown",
   "metadata": {},
   "source": [
    "# ค่าาcoeffecnts และค่า'Mean absolute error','R_squared','Root Mean Squared Error' จากโมเดลLassoRegression โดยแบ่งข้อมูลแบบปกติ"
   ]
  },
  {
   "cell_type": "code",
   "execution_count": 26,
   "metadata": {
    "scrolled": true
   },
   "outputs": [
    {
     "name": "stdout",
     "output_type": "stream",
     "text": [
      "                      Coeffecient\n",
      "fixed acidity           -0.050802\n",
      "volatile acidity        -0.979821\n",
      "citric acid             -0.000000\n",
      "residual sugar           0.019435\n",
      "chlorides               -0.000000\n",
      "free sulfur dioxide      0.007547\n",
      "total sulfur dioxide    -0.001260\n",
      "density                 -0.000000\n",
      "pH                       0.000000\n",
      "sulphates                0.000000\n",
      "alcohol                  0.349891\n",
      "Mean absolute error: 0.60\n",
      "R_squared: 0.24\n",
      "Root Mean Squared Error: 0.77\n",
      "None\n"
     ]
    }
   ],
   "source": [
    "print(coeffecients(lasso)) "
   ]
  },
  {
   "cell_type": "markdown",
   "metadata": {},
   "source": [
    "# ค่า'Mean absolute error','R_squared','Root Mean Squared Error' จากโมเดลLassoRegression โดยแบ่งข้อมูลแบบCross validation"
   ]
  },
  {
   "cell_type": "code",
   "execution_count": 27,
   "metadata": {
    "scrolled": false
   },
   "outputs": [
    {
     "name": "stdout",
     "output_type": "stream",
     "text": [
      "Mean Absolute Error:\t [0.67253485 0.61826002 0.60496959 0.58711497 0.55537839]\n",
      "mean(Mean Absolute Error):\t 0.6076515643067376\n",
      "R_squared:\t [0.17290962 0.27049548 0.26298539 0.2905274  0.13305363]\n",
      "mean(R_squared):\t 0.22599430369052326\n",
      "Root Mean Squared Error:\t [0.84934532 0.78140072 0.76341956 0.74493711 0.72159612]\n",
      "mean(Root Mean Squared Error):\t 0.7721397639433631\n",
      "None\n"
     ]
    }
   ],
   "source": [
    "print(cross_validation_score(lasso))"
   ]
  },
  {
   "cell_type": "markdown",
   "metadata": {},
   "source": [
    "# ค่าาcoeffecntจากการแบ่งข้อมูลแบบCross validation ของโมเดลLassoRegression"
   ]
  },
  {
   "cell_type": "code",
   "execution_count": 63,
   "metadata": {},
   "outputs": [
    {
     "name": "stdout",
     "output_type": "stream",
     "text": [
      "                      Coeffecient\n",
      "fixed acidity           -0.046626\n",
      "volatile acidity        -0.967994\n",
      "citric acid              0.000000\n",
      "residual sugar           0.028099\n",
      "chlorides               -0.000000\n",
      "free sulfur dioxide      0.006159\n",
      "total sulfur dioxide    -0.001474\n",
      "density                 -0.000000\n",
      "pH                       0.000000\n",
      "sulphates                0.000000\n",
      "alcohol                  0.356460\n",
      "                      Coeffecient\n",
      "fixed acidity           -0.045936\n",
      "volatile acidity        -0.807678\n",
      "citric acid              0.000000\n",
      "residual sugar           0.018480\n",
      "chlorides               -0.000000\n",
      "free sulfur dioxide      0.006080\n",
      "total sulfur dioxide    -0.001677\n",
      "density                 -0.000000\n",
      "pH                       0.000000\n",
      "sulphates                0.000000\n",
      "alcohol                  0.328626\n",
      "                      Coeffecient\n",
      "fixed acidity           -0.029796\n",
      "volatile acidity        -1.035403\n",
      "citric acid              0.000000\n",
      "residual sugar           0.023173\n",
      "chlorides               -0.000000\n",
      "free sulfur dioxide      0.005567\n",
      "total sulfur dioxide    -0.001365\n",
      "density                 -0.000000\n",
      "pH                       0.000000\n",
      "sulphates                0.000000\n",
      "alcohol                  0.340179\n",
      "                      Coeffecient\n",
      "fixed acidity           -0.034396\n",
      "volatile acidity        -0.979451\n",
      "citric acid              0.000000\n",
      "residual sugar           0.016655\n",
      "chlorides               -0.000000\n",
      "free sulfur dioxide      0.006756\n",
      "total sulfur dioxide    -0.001414\n",
      "density                 -0.000000\n",
      "pH                       0.000000\n",
      "sulphates                0.000000\n",
      "alcohol                  0.341746\n",
      "                      Coeffecient\n",
      "fixed acidity           -0.074120\n",
      "volatile acidity        -0.853684\n",
      "citric acid              0.000000\n",
      "residual sugar           0.017844\n",
      "chlorides               -0.000000\n",
      "free sulfur dioxide      0.007246\n",
      "total sulfur dioxide    -0.001145\n",
      "density                 -0.000000\n",
      "pH                       0.000000\n",
      "sulphates                0.000000\n",
      "alcohol                  0.373348\n",
      "None\n"
     ]
    }
   ],
   "source": [
    "print(cross_validation_coeff(lasso))"
   ]
  },
  {
   "cell_type": "markdown",
   "metadata": {},
   "source": [
    "# ค่าาcoeffecntจากการแบ่งข้อมูลแบบCross validation ของโมเดลLinearRegression โดยคัดattribute"
   ]
  },
  {
   "cell_type": "code",
   "execution_count": 61,
   "metadata": {
    "scrolled": false
   },
   "outputs": [
    {
     "name": "stdout",
     "output_type": "stream",
     "text": [
      "                      Coeffecient\n",
      "fixed acidity           -0.106401\n",
      "volatile acidity        -2.144889\n",
      "chlorides               -1.083242\n",
      "total sulfur dioxide     0.000611\n",
      "density                 58.868900\n",
      "alcohol                  0.433691\n",
      "                      Coeffecient\n",
      "fixed acidity           -0.096158\n",
      "volatile acidity        -2.049849\n",
      "chlorides               -1.377048\n",
      "total sulfur dioxide     0.000437\n",
      "density                 39.554555\n",
      "alcohol                  0.380941\n",
      "                      Coeffecient\n",
      "fixed acidity           -0.088712\n",
      "volatile acidity        -2.167379\n",
      "chlorides               -1.705929\n",
      "total sulfur dioxide     0.000397\n",
      "density                 56.927340\n",
      "alcohol                  0.409305\n",
      "                      Coeffecient\n",
      "fixed acidity           -0.085177\n",
      "volatile acidity        -2.121389\n",
      "chlorides               -1.368686\n",
      "total sulfur dioxide     0.000788\n",
      "density                 37.040585\n",
      "alcohol                  0.387580\n",
      "                      Coeffecient\n",
      "fixed acidity           -0.126010\n",
      "volatile acidity        -2.052543\n",
      "chlorides               -1.301229\n",
      "total sulfur dioxide     0.001100\n",
      "density                 41.920023\n",
      "alcohol                  0.429854\n",
      "None\n"
     ]
    }
   ],
   "source": [
    "print(cross_validation_coeff_ft(regr))"
   ]
  },
  {
   "cell_type": "markdown",
   "metadata": {},
   "source": [
    "# ค่า'Mean absolute error','R_squared','Root Mean Squared Error' จากโมเดลLinearRegression โดยแบ่งข้อมูลแบบCross validation โดยคัดattribute"
   ]
  },
  {
   "cell_type": "code",
   "execution_count": 62,
   "metadata": {},
   "outputs": [
    {
     "name": "stdout",
     "output_type": "stream",
     "text": [
      "Mean Absolute Error:\t [0.65286182 0.60989799 0.60973185 0.5821307  0.55188028]\n",
      "mean(Mean Absolute Error):\t 0.6013005285688762\n",
      "R_squared:\t [0.19395486 0.28204062 0.24504828 0.28816019 0.15223356]\n",
      "mean(R_squared):\t 0.2322875029815022\n",
      "Root Mean Squared Error:\t [0.83846993 0.77519283 0.77265358 0.74617884 0.71356934]\n",
      "mean(Root Mean Squared Error):\t 0.769212906266566\n",
      "None\n"
     ]
    }
   ],
   "source": [
    "print(cross_validation_score_ft(regr)) "
   ]
  }
 ],
 "metadata": {
  "kernelspec": {
   "display_name": "Python 3",
   "language": "python",
   "name": "python3"
  },
  "language_info": {
   "codemirror_mode": {
    "name": "ipython",
    "version": 3
   },
   "file_extension": ".py",
   "mimetype": "text/x-python",
   "name": "python",
   "nbconvert_exporter": "python",
   "pygments_lexer": "ipython3",
   "version": "3.8.3"
  }
 },
 "nbformat": 4,
 "nbformat_minor": 4
}
